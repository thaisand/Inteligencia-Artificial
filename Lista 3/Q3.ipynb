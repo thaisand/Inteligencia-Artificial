{
  "nbformat": 4,
  "nbformat_minor": 0,
  "metadata": {
    "colab": {
      "provenance": []
    },
    "kernelspec": {
      "name": "python3",
      "display_name": "Python 3"
    },
    "language_info": {
      "name": "python"
    }
  },
  "cells": [
    {
      "cell_type": "markdown",
      "source": [
        "# Importando e manipulando base de dados"
      ],
      "metadata": {
        "id": "n8Luxl7TDdUV"
      }
    },
    {
      "cell_type": "code",
      "execution_count": 1,
      "metadata": {
        "id": "b8ZJ7jCfHu1K"
      },
      "outputs": [],
      "source": [
        "!pip -q install yellowbrick"
      ]
    },
    {
      "cell_type": "markdown",
      "source": [
        "Importando a biblioteca panda, que permite a leitura de arquivos de vários tipos"
      ],
      "metadata": {
        "id": "3EcNiLpoK_IO"
      }
    },
    {
      "cell_type": "code",
      "source": [
        "import pandas as pd"
      ],
      "metadata": {
        "id": "Eaw6Ij2gHxw0"
      },
      "execution_count": 2,
      "outputs": []
    },
    {
      "cell_type": "markdown",
      "source": [
        "Carregando a base de dados a partir do arquivo "
      ],
      "metadata": {
        "id": "cHg6AC6aDML1"
      }
    },
    {
      "cell_type": "code",
      "source": [
        "database = pd.read_excel('/content/ArquivoExemplo.xlsx')"
      ],
      "metadata": {
        "id": "Ujv03dHNH0-2"
      },
      "execution_count": 3,
      "outputs": []
    },
    {
      "cell_type": "markdown",
      "source": [
        "Exibindo as primeiras linhas da base de dados"
      ],
      "metadata": {
        "id": "xUYTu211DzRo"
      }
    },
    {
      "cell_type": "code",
      "source": [
        "print(database)"
      ],
      "metadata": {
        "colab": {
          "base_uri": "https://localhost:8080/"
        },
        "id": "uZp1spOvLREy",
        "outputId": "2acaa864-1bfa-429a-9e18-a7a23390326e"
      },
      "execution_count": 4,
      "outputs": [
        {
          "output_type": "stream",
          "name": "stdout",
          "text": [
            "   História do crédito Dívida Garantias        Renda Anual     Risco\n",
            "0                 Ruim   Alta   Nenhuma             <15000      Alto\n",
            "1         Desconhecida   Alta   Nenhuma  >=15000 a <=35000      Alto\n",
            "2         Desconhecida  Baixa   Nenhuma  >=15000 a <=35000  Moderado\n",
            "3         Desconhecida  Baixa   Nenhuma             >35000      Alto\n",
            "4         Desconhecida  Baixa   Nenhuma             >35000     Baixo\n",
            "5         Desconhecida  Baixa  Adequada             >35000     Baixo\n",
            "6                 Ruim  Baixa   Nenhuma             <15000      Alto\n",
            "7                 Ruim  Baixa  Adequada             >35000  Moderado\n",
            "8                  Boa  Baixa   Nenhuma             >35000     Baixo\n",
            "9                  Boa   Alta  Adequada             >35000     Baixo\n",
            "10                 Boa   Alta   Nenhuma             <15000      Alto\n",
            "11                 Boa   Alta   Nenhuma  >=15000 a <=35000  Moderado\n",
            "12                 Boa   Alta   Nenhuma             >35000     Baixo\n",
            "13                Ruim   Alta   Nenhuma  >=15000 a <=35000      Alto\n"
          ]
        }
      ]
    },
    {
      "cell_type": "markdown",
      "source": [
        "Armazenando os atributos previsores em X"
      ],
      "metadata": {
        "id": "ckAcUlW1BE4J"
      }
    },
    {
      "cell_type": "code",
      "source": [
        "X_risco = database.iloc[:, 0:4].values # iloc busca registro, : inclui todas as linhas, 0:4 do atributo 0 ao 4, .values converte para o formato do numpyarray\n",
        "X_risco "
      ],
      "metadata": {
        "id": "qBvD-QIuMh9J",
        "colab": {
          "base_uri": "https://localhost:8080/"
        },
        "outputId": "b10634e9-c24e-49a0-f3c9-7ab10698d00f"
      },
      "execution_count": 7,
      "outputs": [
        {
          "output_type": "execute_result",
          "data": {
            "text/plain": [
              "array([['Ruim', 'Alta', 'Nenhuma', '<15000'],\n",
              "       ['Desconhecida', 'Alta', 'Nenhuma', '>=15000 a <=35000'],\n",
              "       ['Desconhecida', 'Baixa', 'Nenhuma', '>=15000 a <=35000'],\n",
              "       ['Desconhecida', 'Baixa', 'Nenhuma', '>35000'],\n",
              "       ['Desconhecida', 'Baixa', 'Nenhuma', '>35000'],\n",
              "       ['Desconhecida', 'Baixa', 'Adequada', '>35000'],\n",
              "       ['Ruim', 'Baixa', 'Nenhuma', '<15000'],\n",
              "       ['Ruim', 'Baixa', 'Adequada', '>35000'],\n",
              "       ['Boa', 'Baixa', 'Nenhuma', '>35000'],\n",
              "       ['Boa', 'Alta', 'Adequada', '>35000'],\n",
              "       ['Boa', 'Alta', 'Nenhuma', '<15000'],\n",
              "       ['Boa', 'Alta', 'Nenhuma', '>=15000 a <=35000'],\n",
              "       ['Boa', 'Alta', 'Nenhuma', '>35000'],\n",
              "       ['Ruim', 'Alta', 'Nenhuma', '>=15000 a <=35000']], dtype=object)"
            ]
          },
          "metadata": {},
          "execution_count": 7
        }
      ]
    },
    {
      "cell_type": "markdown",
      "source": [
        "Armazenando as classes em Y"
      ],
      "metadata": {
        "id": "uy2jCrw1BJwu"
      }
    },
    {
      "cell_type": "code",
      "source": [
        "Y_risco = database.iloc[:, 4].values\n",
        "Y_risco # Y armazena as classes"
      ],
      "metadata": {
        "colab": {
          "base_uri": "https://localhost:8080/"
        },
        "id": "YaGxpkEmALwz",
        "outputId": "4b05a5f4-e7ed-4591-e6eb-1298abcdd62f"
      },
      "execution_count": 8,
      "outputs": [
        {
          "output_type": "execute_result",
          "data": {
            "text/plain": [
              "array(['Alto', 'Alto', 'Moderado', 'Alto', 'Baixo', 'Baixo', 'Alto',\n",
              "       'Moderado', 'Baixo', 'Baixo', 'Alto', 'Moderado', 'Baixo', 'Alto'],\n",
              "      dtype=object)"
            ]
          },
          "metadata": {},
          "execution_count": 8
        }
      ]
    },
    {
      "cell_type": "markdown",
      "source": [
        "Convertendo os atributos categóricos(String) em atributos numéricos aplicando labelEncoder\n"
      ],
      "metadata": {
        "id": "Gw_w1UtlAYR5"
      }
    },
    {
      "cell_type": "code",
      "source": [
        "from sklearn.preprocessing import LabelEncoder\n",
        "label_historia = LabelEncoder()\n",
        "label_divida = LabelEncoder()\n",
        "label_garantia = LabelEncoder()\n",
        "label_renda = LabelEncoder()"
      ],
      "metadata": {
        "id": "JOet_Mg1AdZx"
      },
      "execution_count": 11,
      "outputs": []
    },
    {
      "cell_type": "markdown",
      "source": [
        "Aplicando os processamentos"
      ],
      "metadata": {
        "id": "VLk82DTrBme2"
      }
    },
    {
      "cell_type": "code",
      "source": [
        "X_risco[:,0] = label_historia.fit_transform(X_risco[:,0])\n",
        "X_risco[:,1] = label_divida.fit_transform(X_risco[:,1])\n",
        "X_risco[:,2] = label_garantia.fit_transform(X_risco[:,2])\n",
        "X_risco[:,3] = label_renda.fit_transform(X_risco[:,3])"
      ],
      "metadata": {
        "id": "Y1UPKCsPBlUP"
      },
      "execution_count": 14,
      "outputs": []
    },
    {
      "cell_type": "code",
      "source": [
        "X_risco"
      ],
      "metadata": {
        "colab": {
          "base_uri": "https://localhost:8080/"
        },
        "id": "E7aVLf0VCHt3",
        "outputId": "44b436a6-30cb-4bb2-ba9c-9804a034030d"
      },
      "execution_count": 15,
      "outputs": [
        {
          "output_type": "execute_result",
          "data": {
            "text/plain": [
              "array([[0, 0, 1, 0],\n",
              "       [2, 0, 1, 2],\n",
              "       [2, 1, 1, 2],\n",
              "       [1, 1, 1, 1],\n",
              "       [1, 1, 1, 1],\n",
              "       [1, 1, 0, 1],\n",
              "       [0, 1, 1, 0],\n",
              "       [1, 1, 0, 1],\n",
              "       [1, 1, 1, 1],\n",
              "       [1, 0, 0, 1],\n",
              "       [0, 0, 1, 0],\n",
              "       [2, 0, 1, 2],\n",
              "       [1, 0, 1, 1],\n",
              "       [2, 0, 1, 2]], dtype=object)"
            ]
          },
          "metadata": {},
          "execution_count": 15
        }
      ]
    },
    {
      "cell_type": "markdown",
      "source": [
        "Salvando os dados manipulados no arquivo risco_credito.pkl"
      ],
      "metadata": {
        "id": "gV8lxpJzDv-y"
      }
    },
    {
      "cell_type": "code",
      "source": [
        "import pickle \n",
        "with open('risco_credito.pkl', 'wb') as f: # wb para escrever arquivo\n",
        "  pickle.dump([X_risco, Y_risco], f)"
      ],
      "metadata": {
        "id": "vpCOszYQCiIW"
      },
      "execution_count": 17,
      "outputs": []
    },
    {
      "cell_type": "markdown",
      "source": [
        "# Aplicando o algoritmo de Naive-Bayes"
      ],
      "metadata": {
        "id": "0nwxYJKoD5Kb"
      }
    },
    {
      "cell_type": "markdown",
      "source": [
        "Importando a distribuição estatística"
      ],
      "metadata": {
        "id": "T4GWemyqERw6"
      }
    },
    {
      "cell_type": "code",
      "source": [
        "from sklearn.naive_bayes import GaussianNB"
      ],
      "metadata": {
        "id": "FJaXXaJtEIEq"
      },
      "execution_count": 18,
      "outputs": []
    },
    {
      "cell_type": "markdown",
      "source": [
        "Aplicando a distribuição estatística de Gaussian"
      ],
      "metadata": {
        "id": "oAMSocVaEW7T"
      }
    },
    {
      "cell_type": "code",
      "source": [
        "naive_risco = GaussianNB();\n",
        "naive_risco.fit(X_risco, Y_risco) # gera tabela de probabilidades, treina o algoritmo"
      ],
      "metadata": {
        "colab": {
          "base_uri": "https://localhost:8080/"
        },
        "id": "Q1QDWd8LECKE",
        "outputId": "acac9d4c-6526-411e-88c3-e960fa951006"
      },
      "execution_count": 19,
      "outputs": [
        {
          "output_type": "execute_result",
          "data": {
            "text/plain": [
              "GaussianNB()"
            ]
          },
          "metadata": {},
          "execution_count": 19
        }
      ]
    },
    {
      "cell_type": "markdown",
      "source": [
        "Gerando a previsão do algoritmo:\n",
        "- História do crédito boa = (0), Dívida alta = (0), Garantias nenhuma = (1), Renda Anual > 35 = (2)\n",
        "- História do crédito ruim = (2), Dívida alta = (0), Garantias adequada = (0), Renda Anual < 15 = (0)"
      ],
      "metadata": {
        "id": "QVe--PShE7hr"
      }
    },
    {
      "cell_type": "code",
      "source": [
        "previsao = naive_risco.predict([[0,0,1,2], [2,0,0,0]])"
      ],
      "metadata": {
        "id": "QM3FkC5QE-Oj"
      },
      "execution_count": 21,
      "outputs": []
    },
    {
      "cell_type": "code",
      "source": [
        "previsao"
      ],
      "metadata": {
        "colab": {
          "base_uri": "https://localhost:8080/"
        },
        "id": "P71GA_4rJkAc",
        "outputId": "9b94f624-4191-468a-f2ef-c5888ac0ae15"
      },
      "execution_count": 22,
      "outputs": [
        {
          "output_type": "execute_result",
          "data": {
            "text/plain": [
              "array(['Alto', 'Moderado'], dtype='<U8')"
            ]
          },
          "metadata": {},
          "execution_count": 22
        }
      ]
    }
  ]
}